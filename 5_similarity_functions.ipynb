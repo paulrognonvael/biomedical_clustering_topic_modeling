{
  "nbformat": 4,
  "nbformat_minor": 0,
  "metadata": {
    "colab": {
      "name": "5_similarity_functions.ipynb",
      "provenance": [],
      "collapsed_sections": [],
      "authorship_tag": "ABX9TyM+neTgGvNykZOHVd72t5LX",
      "include_colab_link": true
    },
    "kernelspec": {
      "name": "python3",
      "display_name": "Python 3"
    },
    "language_info": {
      "name": "python"
    }
  },
  "cells": [
    {
      "cell_type": "markdown",
      "metadata": {
        "id": "view-in-github",
        "colab_type": "text"
      },
      "source": [
        "<a href=\"https://colab.research.google.com/github/polrgn/biomedical_clustering_topic_modeling/blob/main/5_similarity_functions.ipynb\" target=\"_parent\"><img src=\"https://colab.research.google.com/assets/colab-badge.svg\" alt=\"Open In Colab\"/></a>"
      ]
    },
    {
      "cell_type": "code",
      "metadata": {
        "id": "shmlTq5JQAE8"
      },
      "source": [
        "import numpy as np \n",
        "import pandas as pd\n",
        "from sklearn.metrics import pairwise\n",
        "import seaborn as sns\n",
        "from matplotlib import pyplot as plt\n",
        "import textwrap"
      ],
      "execution_count": null,
      "outputs": []
    },
    {
      "cell_type": "markdown",
      "metadata": {
        "id": "xo4-PlAln0DN"
      },
      "source": [
        "Mount Google drive"
      ]
    },
    {
      "cell_type": "code",
      "metadata": {
        "colab": {
          "base_uri": "https://localhost:8080/"
        },
        "id": "OB2FjjYYVFtb",
        "outputId": "441645e4-e7c0-4e3c-9e8b-39f9ab162e13"
      },
      "source": [
        "# Mounting Google drive where we save our data and embeddings\n",
        "from google.colab import drive\n",
        "drive.mount('/content/drive/')"
      ],
      "execution_count": null,
      "outputs": [
        {
          "output_type": "stream",
          "text": [
            "Mounted at /content/drive/\n"
          ],
          "name": "stdout"
        }
      ]
    },
    {
      "cell_type": "markdown",
      "metadata": {
        "id": "4vpZ_GDhQVt2"
      },
      "source": [
        "We read the data"
      ]
    },
    {
      "cell_type": "code",
      "metadata": {
        "id": "QHBZE_NDQVcR"
      },
      "source": [
        "km_centers = np.load(\"drive/MyDrive/Projet MedML/Outputs/km_mv_clusters_centers.npy\")\n",
        "pw_dist_abstracts = pd.read_csv('drive/MyDrive/Projet MedML/Outputs/pw_dist_abstracts.csv',index_col=0)\n",
        "abstract_df = pd.read_csv('drive/MyDrive/Projet MedML/Outputs/abstract_df_clean_stopwords_lang_abstrlen.csv',index_col=0)[0:10000]\n",
        "projection_df = pd.read_csv('drive/MyDrive/Projet MedML/Outputs/mvmds_projection.csv',index_col=0)[0:10000]\n",
        "projection_df.index = projection_df.index.astype('int64')\n",
        "topic_mvmds = pd.read_csv(\"drive/MyDrive/Projet MedML/Outputs/mvmds_topics.csv\",index_col=0)"
      ],
      "execution_count": null,
      "outputs": []
    },
    {
      "cell_type": "markdown",
      "metadata": {
        "id": "S-yH4bkw1Ayv"
      },
      "source": [
        "We build a function to find for a given abstract, the closest other abstracts, topics and cluster centroids"
      ]
    },
    {
      "cell_type": "code",
      "metadata": {
        "id": "nvMSysIZeCUY"
      },
      "source": [
        "def get_closest_abstract_topic_cluster(cord_uid):\n",
        "  closest_abstracts = pw_dist_abstracts[cord_uid].sort_values(ascending=True)[1:20].index.values.tolist()\n",
        "  closest_abstracts = abstract_df[abstract_df.cord_uid.isin(closest_abstracts)][['cord_uid','abstract']]\n",
        "  print('Closest abstracts\\n',closest_abstracts.iloc[0:5],'\\n')\n",
        "\n",
        "  mvmds_abstract = projection_df[0:10000].loc[abstract_df['cord_uid']==cord_uid].drop('cluster',axis=1)\n",
        "  dist_clust = pd.DataFrame(pairwise.euclidean_distances(km_centers,mvmds_abstract))\n",
        "  dist_clust.columns = ['distance_to_center']\n",
        "  dist_clust['cluster'] = ['0','1','2','3','4','5','6','7','8','9'] \n",
        "  dist_clust = dist_clust.sort_values(ascending = True, by = 'distance_to_center')[['cluster','distance_to_center']]\n",
        "  print('Closest clusters\\n',dist_clust.iloc[0:5],'\\n')\n",
        "\n",
        "  mvmds_abstract = projection_df[0:10000].loc[abstract_df['cord_uid']==cord_uid].drop('cluster',axis=1)\n",
        "  dist_topic = pd.DataFrame(pairwise.euclidean_distances(topic_mvmds,mvmds_abstract))\n",
        "  dist_topic.columns = ['distance_to_topic']\n",
        "  dist_topic['topic'] = ['1','2','3','4','4','6','7','8','9','10'] \n",
        "  dist_topic = dist_topic.sort_values(ascending = True, by = 'distance_to_topic')[['topic','distance_to_topic']]\n",
        "  print('Closest topics\\n',dist_topic.iloc[0:5])\n",
        "\n",
        "  return closest_abstracts, dist_clust, dist_topic "
      ],
      "execution_count": null,
      "outputs": []
    },
    {
      "cell_type": "markdown",
      "metadata": {
        "id": "D2nUvA3h1O8l"
      },
      "source": [
        "Example with abstract with CORD UI 'sng9h1kq'"
      ]
    },
    {
      "cell_type": "code",
      "metadata": {
        "id": "hWQJFivfGWt3",
        "colab": {
          "base_uri": "https://localhost:8080/"
        },
        "outputId": "03c1ead3-22ca-4669-fb8d-14436e088082"
      },
      "source": [
        "string = abstract_df[abstract_df['cord_uid']=='sng9h1kq']['abstract'].iloc[0]\n",
        "print(textwrap.fill(string, 80),'\\n')\n",
        "closest_abstracts, distance_clust, distance_topics = get_closest_abstract_topic_cluster('sng9h1kq')"
      ],
      "execution_count": null,
      "outputs": [
        {
          "output_type": "stream",
          "text": [
            "challenging find genes stable transcripts reference genes quantitative realtime\n",
            "polymerase chain reaction qrt pcr autographa californica nucleopolyhedrovirus\n",
            "acmnpv known globally shut host gene transcription sf21 modify cytoskeletons\n",
            "host genes selected validation references gene expression experiments qrt pcr\n",
            "ecdysoneless ecd myosin stable rna levels previous microarray hpi genes hpi ecd\n",
            "actin tubulin glyceraldehyde 3-phosphate dehydrogenase gapdh 28s ribosome 28s\n",
            "commonly employed reference genes qrt pcr ribosomal l35 l35 gene selected test\n",
            "ribosomal genes stable rna transcript levels similar 28s 18s rrna validate\n",
            "microarray addition 28s previously known stable transcript levels qrt pcr ecd\n",
            "transcript levels remained constant course acmnpv transcripts cytoskeleton genes\n",
            "actin tubulin myosin declined dramatically progressed gapdh l35 transcripts\n",
            "declined ecd reliable reference gene qrt pcr experiments acmnpv spodoptera\n",
            "frugiperda 28s reference gene experiments useful ecd abundance difficult\n",
            "establish accurate baseline value \n",
            "\n",
            "Closest abstracts\n",
            "         cord_uid                                           abstract\n",
            "401403  7o1nttwi  t cell receptors tcrs generated somatic recomb...\n",
            "2089    36neb5nu  ebv key factor malignancy diseases nasopharyng...\n",
            "417843  0lbxvudt  decrease cost sequencing improvement technolog...\n",
            "474961  zk74rl6z  developments dna resequencing microarrays incl...\n",
            "437298  afwvjcw9  situation sparked global concern caused cluste... \n",
            "\n",
            "Closest clusters\n",
            "   cluster  distance_to_center\n",
            "8       8            0.033846\n",
            "0       0            0.033878\n",
            "5       5            0.037032\n",
            "4       4            0.042755\n",
            "3       3            0.045525 \n",
            "\n",
            "Closest topics\n",
            "   topic  distance_to_topic\n",
            "2     3           0.035352\n",
            "4     4           0.055258\n",
            "1     2           0.059981\n",
            "9    10           0.060550\n",
            "5     6           0.063093\n"
          ],
          "name": "stdout"
        }
      ]
    },
    {
      "cell_type": "markdown",
      "metadata": {
        "id": "sT56FiOf1TtF"
      },
      "source": [
        "Example with abstract with CORD UI 'ygg093ns'"
      ]
    },
    {
      "cell_type": "code",
      "metadata": {
        "colab": {
          "base_uri": "https://localhost:8080/"
        },
        "id": "7Ntq8eS0MpVg",
        "outputId": "23e7cc29-cb8a-4435-bba8-15b9d0c60917"
      },
      "source": [
        "string = abstract_df[abstract_df['cord_uid']=='ygg093ns']['abstract'].iloc[0]\n",
        "print(textwrap.fill(string, 80),'\\n')\n",
        "closest_abstracts, distance_clust, distance_topics = get_closest_abstract_topic_cluster('ygg093ns')"
      ],
      "execution_count": null,
      "outputs": [
        {
          "output_type": "stream",
          "text": [
            "influenza poses threat children schools play critical role community\n",
            "mathematical models assumptions contact rates patterns students level temporal\n",
            "granularity required produce reliable unclear collected contact students aged\n",
            "5–14 elementary school middle school state utah usa paired influenza\n",
            "transmission schools simulations produced school transmission averages\n",
            "consistent published estimates simulated resolution dynamic network simulations\n",
            "networks averaged representations contact timing duration schools averaging\n",
            "timing contacts school days caused average sizes increase 1–8 averaging contact\n",
            "timing pairwise contact durations caused average sizes increase middle school\n",
            "elementary school averaging contact durations separately class class contacts\n",
            "reduced increase elementary school effect ignoring details contact timing\n",
            "duration school contact networks size modelling vary schools \n",
            "\n",
            "Closest abstracts\n",
            "         cord_uid                                           abstract\n",
            "154886  tqqlr4zx  france italy countries ended implementing comp...\n",
            "175944  ocmyvfgt  discuss age structured sir spread direct perso...\n",
            "206891  0u6vbm7g  dynamics number deaths countries large extent ...\n",
            "481504  n4kke717  lay persons policy makers speculated impositio...\n",
            "124930  hyz6fwt9  irish experience spanish flu statistics sensit... \n",
            "\n",
            "Closest clusters\n",
            "   cluster  distance_to_center\n",
            "2       2            0.012826\n",
            "3       3            0.024878\n",
            "7       7            0.028201\n",
            "4       4            0.029957\n",
            "5       5            0.030301 \n",
            "\n",
            "Closest topics\n",
            "   topic  distance_to_topic\n",
            "6     7           0.043458\n",
            "1     2           0.043652\n",
            "5     6           0.049638\n",
            "2     3           0.053245\n",
            "4     4           0.055940\n"
          ],
          "name": "stdout"
        }
      ]
    },
    {
      "cell_type": "markdown",
      "metadata": {
        "id": "bxNTB7QE1XZx"
      },
      "source": [
        "We build a distance matrix between cluster centroids and topics."
      ]
    },
    {
      "cell_type": "code",
      "metadata": {
        "colab": {
          "base_uri": "https://localhost:8080/",
          "height": 394
        },
        "id": "0JiZaiOlW8IS",
        "outputId": "502cc72e-9556-43a8-e7ff-16f35b014569"
      },
      "source": [
        "dist_topic_cluster_center = pd.DataFrame(pairwise.euclidean_distances(topic_mvmds,km_centers))\n",
        "dist_topic_cluster_center.index.name = 'topic'\n",
        "dist_topic_cluster_center.columns.name = 'cluster'\n",
        "dist_topic_cluster_center"
      ],
      "execution_count": null,
      "outputs": [
        {
          "output_type": "execute_result",
          "data": {
            "text/html": [
              "<div>\n",
              "<style scoped>\n",
              "    .dataframe tbody tr th:only-of-type {\n",
              "        vertical-align: middle;\n",
              "    }\n",
              "\n",
              "    .dataframe tbody tr th {\n",
              "        vertical-align: top;\n",
              "    }\n",
              "\n",
              "    .dataframe thead th {\n",
              "        text-align: right;\n",
              "    }\n",
              "</style>\n",
              "<table border=\"1\" class=\"dataframe\">\n",
              "  <thead>\n",
              "    <tr style=\"text-align: right;\">\n",
              "      <th>cluster</th>\n",
              "      <th>0</th>\n",
              "      <th>1</th>\n",
              "      <th>2</th>\n",
              "      <th>3</th>\n",
              "      <th>4</th>\n",
              "      <th>5</th>\n",
              "      <th>6</th>\n",
              "      <th>7</th>\n",
              "      <th>8</th>\n",
              "      <th>9</th>\n",
              "    </tr>\n",
              "    <tr>\n",
              "      <th>topic</th>\n",
              "      <th></th>\n",
              "      <th></th>\n",
              "      <th></th>\n",
              "      <th></th>\n",
              "      <th></th>\n",
              "      <th></th>\n",
              "      <th></th>\n",
              "      <th></th>\n",
              "      <th></th>\n",
              "      <th></th>\n",
              "    </tr>\n",
              "  </thead>\n",
              "  <tbody>\n",
              "    <tr>\n",
              "      <th>0</th>\n",
              "      <td>0.057766</td>\n",
              "      <td>0.061018</td>\n",
              "      <td>0.057989</td>\n",
              "      <td>0.058037</td>\n",
              "      <td>0.059320</td>\n",
              "      <td>0.053186</td>\n",
              "      <td>0.030302</td>\n",
              "      <td>0.055298</td>\n",
              "      <td>0.056715</td>\n",
              "      <td>0.062290</td>\n",
              "    </tr>\n",
              "    <tr>\n",
              "      <th>1</th>\n",
              "      <td>0.050576</td>\n",
              "      <td>0.058777</td>\n",
              "      <td>0.051815</td>\n",
              "      <td>0.023873</td>\n",
              "      <td>0.051419</td>\n",
              "      <td>0.053867</td>\n",
              "      <td>0.051542</td>\n",
              "      <td>0.047638</td>\n",
              "      <td>0.051901</td>\n",
              "      <td>0.052193</td>\n",
              "    </tr>\n",
              "    <tr>\n",
              "      <th>2</th>\n",
              "      <td>0.026640</td>\n",
              "      <td>0.058894</td>\n",
              "      <td>0.052436</td>\n",
              "      <td>0.049389</td>\n",
              "      <td>0.050609</td>\n",
              "      <td>0.053665</td>\n",
              "      <td>0.052573</td>\n",
              "      <td>0.048132</td>\n",
              "      <td>0.030774</td>\n",
              "      <td>0.047986</td>\n",
              "    </tr>\n",
              "    <tr>\n",
              "      <th>3</th>\n",
              "      <td>0.061395</td>\n",
              "      <td>0.077290</td>\n",
              "      <td>0.067781</td>\n",
              "      <td>0.069605</td>\n",
              "      <td>0.067850</td>\n",
              "      <td>0.068852</td>\n",
              "      <td>0.068245</td>\n",
              "      <td>0.066930</td>\n",
              "      <td>0.078520</td>\n",
              "      <td>0.056589</td>\n",
              "    </tr>\n",
              "    <tr>\n",
              "      <th>4</th>\n",
              "      <td>0.062392</td>\n",
              "      <td>0.067573</td>\n",
              "      <td>0.054098</td>\n",
              "      <td>0.062030</td>\n",
              "      <td>0.063703</td>\n",
              "      <td>0.034986</td>\n",
              "      <td>0.063295</td>\n",
              "      <td>0.061394</td>\n",
              "      <td>0.063712</td>\n",
              "      <td>0.060440</td>\n",
              "    </tr>\n",
              "    <tr>\n",
              "      <th>5</th>\n",
              "      <td>0.059689</td>\n",
              "      <td>0.061448</td>\n",
              "      <td>0.053458</td>\n",
              "      <td>0.046643</td>\n",
              "      <td>0.049610</td>\n",
              "      <td>0.053697</td>\n",
              "      <td>0.053875</td>\n",
              "      <td>0.051459</td>\n",
              "      <td>0.047132</td>\n",
              "      <td>0.054923</td>\n",
              "    </tr>\n",
              "    <tr>\n",
              "      <th>6</th>\n",
              "      <td>0.049016</td>\n",
              "      <td>0.053661</td>\n",
              "      <td>0.034500</td>\n",
              "      <td>0.050125</td>\n",
              "      <td>0.048299</td>\n",
              "      <td>0.047978</td>\n",
              "      <td>0.047687</td>\n",
              "      <td>0.027814</td>\n",
              "      <td>0.050045</td>\n",
              "      <td>0.048966</td>\n",
              "    </tr>\n",
              "    <tr>\n",
              "      <th>7</th>\n",
              "      <td>0.065389</td>\n",
              "      <td>0.069014</td>\n",
              "      <td>0.066577</td>\n",
              "      <td>0.062401</td>\n",
              "      <td>0.062109</td>\n",
              "      <td>0.061901</td>\n",
              "      <td>0.062854</td>\n",
              "      <td>0.059326</td>\n",
              "      <td>0.062842</td>\n",
              "      <td>0.041652</td>\n",
              "    </tr>\n",
              "    <tr>\n",
              "      <th>8</th>\n",
              "      <td>0.078150</td>\n",
              "      <td>0.044299</td>\n",
              "      <td>0.081629</td>\n",
              "      <td>0.079664</td>\n",
              "      <td>0.079392</td>\n",
              "      <td>0.080409</td>\n",
              "      <td>0.082964</td>\n",
              "      <td>0.076968</td>\n",
              "      <td>0.081684</td>\n",
              "      <td>0.080806</td>\n",
              "    </tr>\n",
              "    <tr>\n",
              "      <th>9</th>\n",
              "      <td>0.061409</td>\n",
              "      <td>0.067437</td>\n",
              "      <td>0.059193</td>\n",
              "      <td>0.060025</td>\n",
              "      <td>0.032067</td>\n",
              "      <td>0.057652</td>\n",
              "      <td>0.061030</td>\n",
              "      <td>0.059220</td>\n",
              "      <td>0.061645</td>\n",
              "      <td>0.062148</td>\n",
              "    </tr>\n",
              "  </tbody>\n",
              "</table>\n",
              "</div>"
            ],
            "text/plain": [
              "cluster         0         1         2  ...         7         8         9\n",
              "topic                                  ...                              \n",
              "0        0.057766  0.061018  0.057989  ...  0.055298  0.056715  0.062290\n",
              "1        0.050576  0.058777  0.051815  ...  0.047638  0.051901  0.052193\n",
              "2        0.026640  0.058894  0.052436  ...  0.048132  0.030774  0.047986\n",
              "3        0.061395  0.077290  0.067781  ...  0.066930  0.078520  0.056589\n",
              "4        0.062392  0.067573  0.054098  ...  0.061394  0.063712  0.060440\n",
              "5        0.059689  0.061448  0.053458  ...  0.051459  0.047132  0.054923\n",
              "6        0.049016  0.053661  0.034500  ...  0.027814  0.050045  0.048966\n",
              "7        0.065389  0.069014  0.066577  ...  0.059326  0.062842  0.041652\n",
              "8        0.078150  0.044299  0.081629  ...  0.076968  0.081684  0.080806\n",
              "9        0.061409  0.067437  0.059193  ...  0.059220  0.061645  0.062148\n",
              "\n",
              "[10 rows x 10 columns]"
            ]
          },
          "metadata": {
            "tags": []
          },
          "execution_count": 38
        }
      ]
    },
    {
      "cell_type": "code",
      "metadata": {
        "id": "5WbzHwTzXED0"
      },
      "source": [
        "dist_topic_cluster_center.to_csv('drive/MyDrive/Projet MedML/Outputs/topic_cluster_distances.csv')"
      ],
      "execution_count": null,
      "outputs": []
    },
    {
      "cell_type": "code",
      "metadata": {
        "colab": {
          "base_uri": "https://localhost:8080/",
          "height": 606
        },
        "id": "ZAriTgj8_yns",
        "outputId": "83cce446-3a22-4a87-ee82-242849bd0f13"
      },
      "source": [
        "dist_topic_cluster_center = pd.read_csv('drive/MyDrive/Projet MedML/Outputs/topic_cluster_distances.csv',index_col=0)\n",
        "dist_topic_cluster_center.index = ['1','2','3','4','5','6','7','8','9','10']\n",
        "fig, ax = plt.subplots(figsize=(12,10))\n",
        "sns.heatmap(dist_topic_cluster_center,ax = ax,annot=True)\n",
        "ax.set(ylabel='Topic')\n",
        "ax.set(xlabel='Cluster')\n",
        "ax.get_figure().savefig(\"drive/MyDrive/Projet MedML/Images/cluster_topic_heatmap.png\")"
      ],
      "execution_count": null,
      "outputs": [
        {
          "output_type": "display_data",
          "data": {
            "image/png": "[encoded data removed]",
            "text/plain": [
              "<Figure size 864x720 with 2 Axes>"
            ]
          },
          "metadata": {
            "tags": [],
            "needs_background": "light"
          }
        }
      ]
    }
  ]
}