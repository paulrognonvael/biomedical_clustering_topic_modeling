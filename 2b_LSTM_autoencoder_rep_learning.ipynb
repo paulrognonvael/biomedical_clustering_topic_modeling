{
  "nbformat": 4,
  "nbformat_minor": 0,
  "metadata": {
    "colab": {
      "name": "2b_LSTM_autoencoder_rep_learning.ipynb",
      "provenance": [],
      "collapsed_sections": [],
      "include_colab_link": true
    },
    "hide_code_all_hidden": false,
    "kernelspec": {
      "display_name": "Python 3",
      "language": "python",
      "name": "python3"
    },
    "language_info": {
      "codemirror_mode": {
        "name": "ipython",
        "version": 3
      },
      "file_extension": ".py",
      "mimetype": "text/x-python",
      "name": "python",
      "nbconvert_exporter": "python",
      "pygments_lexer": "ipython3",
      "version": "3.8.8"
    }
  },
  "cells": [
    {
      "cell_type": "markdown",
      "metadata": {
        "id": "view-in-github",
        "colab_type": "text"
      },
      "source": [
        "<a href=\"https://colab.research.google.com/github/polrgn/biomedical_clustering_topic_modeling/blob/main/2b_LSTM_autoencoder_rep_learning.ipynb\" target=\"_parent\"><img src=\"https://colab.research.google.com/assets/colab-badge.svg\" alt=\"Open In Colab\"/></a>"
      ]
    },
    {
      "cell_type": "markdown",
      "metadata": {
        "hideCode": false,
        "hidePrompt": false,
        "id": "tYPhRTchgvl2"
      },
      "source": [
        "# Load libraries and data"
      ]
    },
    {
      "cell_type": "code",
      "metadata": {
        "hideCode": false,
        "hidePrompt": false,
        "id": "oexvL5E4HLZY"
      },
      "source": [
        "import numpy as np \n",
        "import pandas as pd\n",
        "import os\n",
        "\n",
        "import pickle\n",
        "import matplotlib.pyplot as plt\n",
        "\n",
        "from tensorflow.python.keras.preprocessing.text import Tokenizer\n",
        "from keras.preprocessing.sequence import pad_sequences \n",
        "from keras.models import Model\n",
        "from tensorflow.python.keras.models import Sequential\n",
        "from tensorflow.python.keras.layers import Input,Dense, Dropout, LSTM, GRU, Reshape, TimeDistributed, RepeatVector, Embedding, Bidirectional, Masking, BatchNormalization"
      ],
      "execution_count": null,
      "outputs": []
    },
    {
      "cell_type": "markdown",
      "metadata": {
        "hideCode": false,
        "hidePrompt": false,
        "id": "FEy6_ClUgzbN"
      },
      "source": [
        "Mount Google drive"
      ]
    },
    {
      "cell_type": "code",
      "metadata": {
        "hideCode": false,
        "hidePrompt": false,
        "id": "v2yEwkJKHWF9"
      },
      "source": [
        "# Mounting Google drive where we save our data and embeddings\n",
        "#from google.colab import drive\n",
        "#drive.mount('/content/drive/')"
      ],
      "execution_count": null,
      "outputs": []
    },
    {
      "cell_type": "markdown",
      "metadata": {
        "hideCode": false,
        "hidePrompt": false,
        "id": "WDT8dBs2g2ZW"
      },
      "source": [
        "Load our clean dataset"
      ]
    },
    {
      "cell_type": "code",
      "metadata": {
        "colab": {
          "base_uri": "https://localhost:8080/"
        },
        "hideCode": false,
        "hidePrompt": false,
        "id": "9-ooi-W_H-eK",
        "outputId": "1123b1c2-b065-47d5-fe25-e495295133cb"
      },
      "source": [
        "abstract_df = pd.read_csv('Data/abstract_df_clean_stopwords_lang_abstrlen.csv',index_col=0)[0:10000]\n",
        "np.shape(abstract_df)"
      ],
      "execution_count": null,
      "outputs": [
        {
          "output_type": "execute_result",
          "data": {
            "text/plain": [
              "(10000, 3)"
            ]
          },
          "metadata": {
            "tags": []
          },
          "execution_count": 3
        }
      ]
    },
    {
      "cell_type": "markdown",
      "metadata": {
        "hideCode": false,
        "hidePrompt": false,
        "id": "swsAg__Ig7pS"
      },
      "source": [
        "# Pre-processing dataset for the autoencoder"
      ]
    },
    {
      "cell_type": "markdown",
      "metadata": {
        "hideCode": false,
        "hidePrompt": false,
        "id": "eLnnmncfhCqF"
      },
      "source": [
        "Fit the tokenizer on our dataset and save it."
      ]
    },
    {
      "cell_type": "code",
      "metadata": {
        "colab": {
          "base_uri": "https://localhost:8080/"
        },
        "hideCode": false,
        "hidePrompt": false,
        "id": "EfCn1arCxP6d",
        "outputId": "80f0ff9b-8ec2-4ca0-a093-a5b0dd7e4660"
      },
      "source": [
        "# Fit the tokenizer and build the word index\n",
        "t= Tokenizer(num_words=None)\n",
        "t.fit_on_texts(abstract_df.abstract)\n",
        "pickle.dump(t, open(\"Outputs/autoencoder_vectorizer.pickle\", \"wb\"))\n",
        "word_index = t.word_index\n",
        "print('Found %s unique tokens.' % len(word_index))"
      ],
      "execution_count": null,
      "outputs": [
        {
          "output_type": "stream",
          "text": [
            "Found 49554 unique tokens.\n"
          ],
          "name": "stdout"
        }
      ]
    },
    {
      "cell_type": "markdown",
      "metadata": {
        "hideCode": false,
        "hidePrompt": false,
        "id": "jjymCFk2hFf2"
      },
      "source": [
        "Save the vocabulary to build the embedding layer after. "
      ]
    },
    {
      "cell_type": "code",
      "metadata": {
        "hideCode": false,
        "hidePrompt": false,
        "id": "L_c607HRxfZZ"
      },
      "source": [
        "word_index_df = pd.DataFrame(word_index.items())\n",
        "word_index_df.columns=['word','index']\n",
        "word_index_df['index'] = word_index_df['index']-1\n",
        "word_index_df.head()\n",
        "word_index_df.to_csv('Outputs/word_index.csv')"
      ],
      "execution_count": null,
      "outputs": []
    },
    {
      "cell_type": "markdown",
      "metadata": {
        "hideCode": false,
        "hidePrompt": false,
        "id": "asQ85WilhOYb"
      },
      "source": [
        "Read the pre-trained embeddings."
      ]
    },
    {
      "cell_type": "code",
      "metadata": {
        "hideCode": false,
        "hidePrompt": false,
        "id": "3W5Kh7Tfy7WN"
      },
      "source": [
        "# Extract the words vectors from BioWordVec embeddings txt file\n",
        "embeddings_index = {}\n",
        "f = open('Data/BioWordVec_PubMed_MIMICIII_d200.txt')\n",
        "for line in f:\n",
        "   values = line.split()\n",
        "   word = values[0]\n",
        "   coefs = np.asarray(values[1:], dtype='float32')\n",
        "   embeddings_index[word] = coefs\n",
        "f.close()\n",
        "\n",
        "print('Found %s word vectors.' % len(embeddings_index))\n",
        "\n",
        "Build our embedding matrix by matching the tokens (words) in our dataset to\n",
        "the pre-trained embeddings.\n",
        "\n",
        "Code inspired from\n",
        "https://blog.keras.io/using-pre-trained-word-embeddings-in-a-keras-model.html\n",
        "\n",
        "words_in_data = []\n",
        "embedding_matrix = np.zeros((len(word_index) + 1, 200))\n",
        "for word, i in word_index.items():\n",
        "   embedding_vector = embeddings_index.get(word)\n",
        "   if embedding_vector is not None:\n",
        "       # words not found in embedding index will be all-zeros.\n",
        "       embedding_matrix[i] = embedding_vector\n",
        "       words_in_data.append(word)\n",
        "\n",
        "Save our embedding matrix\n",
        "np.savetxt('Outputs/embedding_matrix.csv', embedding_matrix, delimiter=',')"
      ],
      "execution_count": null,
      "outputs": []
    },
    {
      "cell_type": "code",
      "metadata": {
        "hideCode": false,
        "hidePrompt": false,
        "id": "D_WcZvOozIwr"
      },
      "source": [
        "# Load our saved embedding matrix\n",
        "embedding_matrix = np.loadtxt('Outputs/embedding_matrix.csv',delimiter=',')"
      ],
      "execution_count": null,
      "outputs": []
    },
    {
      "cell_type": "markdown",
      "metadata": {
        "hideCode": false,
        "hidePrompt": false,
        "id": "sHZIcEYrhUfF"
      },
      "source": [
        "Build the embedding layer."
      ]
    },
    {
      "cell_type": "code",
      "metadata": {
        "hideCode": false,
        "hidePrompt": false,
        "id": "XVMFuAl4SMHE"
      },
      "source": [
        "maxlen = max(abstract_df.word_count)\n",
        "EMBEDDING_DIM = np.shape(embedding_matrix)[1]\n",
        "embedding_layer = Embedding(len(word_index) + 1,\n",
        "                            EMBEDDING_DIM,\n",
        "                            weights=[embedding_matrix],\n",
        "                            input_length= maxlen,\n",
        "                            trainable=False)"
      ],
      "execution_count": null,
      "outputs": []
    },
    {
      "cell_type": "markdown",
      "metadata": {
        "hideCode": false,
        "hidePrompt": false,
        "id": "8T3rGkx0hfuZ"
      },
      "source": [
        "Tokenize, pad and embed the abstracts."
      ]
    },
    {
      "cell_type": "code",
      "metadata": {
        "hideCode": false,
        "hidePrompt": false,
        "id": "ZbwCSAR6SZqh"
      },
      "source": [
        "tokenized= t.texts_to_sequences(abstract_df.abstract)\n",
        "padded_abstract = pad_sequences(tokenized, maxlen=maxlen)\n",
        "embedded_abstract= embedding_layer(padded_abstract)\n",
        "np.shape(embedded_abstract)\n",
        "np.save(\"Outputs/embedded_abstract\", embedded_abstract)"
      ],
      "execution_count": null,
      "outputs": []
    },
    {
      "cell_type": "code",
      "metadata": {
        "hideCode": false,
        "hidePrompt": false,
        "id": "YH91aNNiWACi"
      },
      "source": [
        "embedded_abstract = np.load('Outputs/embedded_abstract.npy')\n",
        "np.save(\"Outputs/embedded_abstract_10000\", embedded_abstract[0:10000])"
      ],
      "execution_count": null,
      "outputs": []
    },
    {
      "cell_type": "code",
      "metadata": {
        "hideCode": false,
        "hidePrompt": false,
        "id": "9HW1nWPZdESi"
      },
      "source": [
        "embedded_abstract = np.load('Outputs/embedded_abstract_10000.npy')"
      ],
      "execution_count": null,
      "outputs": []
    },
    {
      "cell_type": "markdown",
      "metadata": {
        "hideCode": false,
        "hidePrompt": false,
        "id": "A3h0stwTicov"
      },
      "source": [
        "Reconstructing a (maxlen x 200) array for each document is an extremely difficult task for the autoencoder. To ease the learning, the target for the autoencoder will be the averaged embedded abstracts (averaged over tokens, we get 200 dimensional vectors)"
      ]
    },
    {
      "cell_type": "code",
      "metadata": {
        "hideCode": false,
        "hidePrompt": false,
        "id": "PtcMo433nlR5"
      },
      "source": [
        "y = np.sum(embedded_abstract, axis=1)"
      ],
      "execution_count": null,
      "outputs": []
    },
    {
      "cell_type": "markdown",
      "metadata": {
        "hideCode": false,
        "hidePrompt": false,
        "id": "_-qwUafKi1ZD"
      },
      "source": [
        "# Autoencoder"
      ]
    },
    {
      "cell_type": "markdown",
      "metadata": {
        "hideCode": false,
        "hidePrompt": false,
        "id": "5YMDdwGRi8ZK"
      },
      "source": [
        "We build a simple autoencoder with a single LSTM layer to encode the embedded abstracts and 3 dense layers of increasing sizes to decode them. We find tanh activations and cosine similarity loss yield the smoothest learning process. Cosine similarity is particularly suited because our embedded abstracts are sparse (tokens not presents in the pre-trained embeddings, padding). We did not run an extensive search over hyperparameters but after many rounds of trials and errors, Adam optimizer, 30 epochs and batch size of 1000 seemed appropriate."
      ]
    },
    {
      "cell_type": "code",
      "metadata": {
        "colab": {
          "base_uri": "https://localhost:8080/"
        },
        "hideCode": false,
        "hidePrompt": false,
        "id": "nEBJkIecHWwW",
        "outputId": "7e989515-7774-48a7-c163-c3aa7c81280b"
      },
      "source": [
        "EMBEDDING_DIM = 200\n",
        "maxlen = max(abstract_df.word_count)\n",
        "latent_dim = 64\n",
        "\n",
        "input_texts = Input(shape=(maxlen, EMBEDDING_DIM,))\n",
        "encoded = LSTM(latent_dim, activation='tanh',return_sequences=False)(input_texts)\n",
        "decoded = Dense(64, activation='tanh')(encoded)\n",
        "decoded = Dense(128, activation='tanh')(decoded)\n",
        "decoded = Dense(200, activation='tanh')(decoded)\n",
        "autoencoder = Model(input_texts, decoded)\n",
        "encoder = Model(input_texts, encoded)\n",
        "\n",
        "autoencoder.summary()\n",
        "\n",
        "batch_size = 1000\n",
        "autoencoder.compile(optimizer='adam', loss=\"cosine_similarity\")\n",
        "history = autoencoder.fit(embedded_abstract[0:10000], y, batch_size=batch_size,\n",
        "                          epochs=60,validation_split=.1)"
      ],
      "execution_count": null,
      "outputs": [
        {
          "output_type": "stream",
          "text": [
            "Model: \"functional_5\"\n",
            "_________________________________________________________________\n",
            "Layer (type)                 Output Shape              Param #   \n",
            "=================================================================\n",
            "input_2 (InputLayer)         [(None, 231, 200)]        0         \n",
            "_________________________________________________________________\n",
            "lstm_1 (LSTM)                (None, 64)                67840     \n",
            "_________________________________________________________________\n",
            "dense_3 (Dense)              (None, 64)                4160      \n",
            "_________________________________________________________________\n",
            "dense_4 (Dense)              (None, 128)               8320      \n",
            "_________________________________________________________________\n",
            "dense_5 (Dense)              (None, 200)               25800     \n",
            "=================================================================\n",
            "Total params: 106,120\n",
            "Trainable params: 106,120\n",
            "Non-trainable params: 0\n",
            "_________________________________________________________________\n",
            "Epoch 1/60\n",
            "9/9 [==============================] - 46s 5s/step - loss: -0.5152 - val_loss: -0.8097\n",
            "Epoch 2/60\n",
            "9/9 [==============================] - 46s 5s/step - loss: -0.8610 - val_loss: -0.8936\n",
            "Epoch 3/60\n",
            "9/9 [==============================] - 46s 5s/step - loss: -0.8957 - val_loss: -0.9024\n",
            "Epoch 4/60\n",
            "9/9 [==============================] - 45s 5s/step - loss: -0.9033 - val_loss: -0.9088\n",
            "Epoch 5/60\n",
            "9/9 [==============================] - 45s 5s/step - loss: -0.9086 - val_loss: -0.9131\n",
            "Epoch 6/60\n",
            "9/9 [==============================] - 40s 4s/step - loss: -0.9123 - val_loss: -0.9158\n",
            "Epoch 7/60\n",
            "9/9 [==============================] - 43s 5s/step - loss: -0.9149 - val_loss: -0.9181\n",
            "Epoch 8/60\n",
            "9/9 [==============================] - 44s 5s/step - loss: -0.9176 - val_loss: -0.9209\n",
            "Epoch 9/60\n",
            "9/9 [==============================] - 45s 5s/step - loss: -0.9208 - val_loss: -0.9241\n",
            "Epoch 10/60\n",
            "9/9 [==============================] - 40s 4s/step - loss: -0.9241 - val_loss: -0.9273\n",
            "Epoch 11/60\n",
            "9/9 [==============================] - 39s 4s/step - loss: -0.9271 - val_loss: -0.9299\n",
            "Epoch 12/60\n",
            "9/9 [==============================] - 45s 5s/step - loss: -0.9298 - val_loss: -0.9322\n",
            "Epoch 13/60\n",
            "9/9 [==============================] - 37s 4s/step - loss: -0.9320 - val_loss: -0.9343\n",
            "Epoch 14/60\n",
            "9/9 [==============================] - 48s 5s/step - loss: -0.9340 - val_loss: -0.9360\n",
            "Epoch 15/60\n",
            "9/9 [==============================] - 47s 5s/step - loss: -0.9356 - val_loss: -0.9375\n",
            "Epoch 16/60\n",
            "9/9 [==============================] - 49s 5s/step - loss: -0.9371 - val_loss: -0.9389\n",
            "Epoch 17/60\n",
            "9/9 [==============================] - 39s 4s/step - loss: -0.9385 - val_loss: -0.9402\n",
            "Epoch 18/60\n",
            "9/9 [==============================] - 52s 6s/step - loss: -0.9397 - val_loss: -0.9414\n",
            "Epoch 19/60\n",
            "9/9 [==============================] - 50s 6s/step - loss: -0.9410 - val_loss: -0.9426\n",
            "Epoch 20/60\n",
            "9/9 [==============================] - 52s 6s/step - loss: -0.9422 - val_loss: -0.9436\n",
            "Epoch 21/60\n",
            "9/9 [==============================] - 48s 5s/step - loss: -0.9432 - val_loss: -0.9447\n",
            "Epoch 22/60\n",
            "9/9 [==============================] - 49s 5s/step - loss: -0.9443 - val_loss: -0.9456\n",
            "Epoch 23/60\n",
            "9/9 [==============================] - 42s 5s/step - loss: -0.9453 - val_loss: -0.9466\n",
            "Epoch 24/60\n",
            "9/9 [==============================] - 47s 5s/step - loss: -0.9463 - val_loss: -0.9474\n",
            "Epoch 25/60\n",
            "9/9 [==============================] - 50s 6s/step - loss: -0.9473 - val_loss: -0.9484\n",
            "Epoch 26/60\n",
            "9/9 [==============================] - 44s 5s/step - loss: -0.9482 - val_loss: -0.9493\n",
            "Epoch 27/60\n",
            "9/9 [==============================] - 43s 5s/step - loss: -0.9492 - val_loss: -0.9503\n",
            "Epoch 28/60\n",
            "9/9 [==============================] - 47s 5s/step - loss: -0.9501 - val_loss: -0.9510\n",
            "Epoch 29/60\n",
            "9/9 [==============================] - 46s 5s/step - loss: -0.9509 - val_loss: -0.9519\n",
            "Epoch 30/60\n",
            "9/9 [==============================] - 48s 5s/step - loss: -0.9518 - val_loss: -0.9527\n",
            "Epoch 31/60\n",
            "9/9 [==============================] - 45s 5s/step - loss: -0.9526 - val_loss: -0.9535\n",
            "Epoch 32/60\n",
            "9/9 [==============================] - 47s 5s/step - loss: -0.9534 - val_loss: -0.9542\n",
            "Epoch 33/60\n",
            "9/9 [==============================] - 47s 5s/step - loss: -0.9542 - val_loss: -0.9550\n",
            "Epoch 34/60\n",
            "9/9 [==============================] - 43s 5s/step - loss: -0.9549 - val_loss: -0.9556\n",
            "Epoch 35/60\n",
            "9/9 [==============================] - 44s 5s/step - loss: -0.9556 - val_loss: -0.9563\n",
            "Epoch 36/60\n",
            "9/9 [==============================] - 47s 5s/step - loss: -0.9562 - val_loss: -0.9568\n",
            "Epoch 37/60\n",
            "9/9 [==============================] - 46s 5s/step - loss: -0.9568 - val_loss: -0.9574\n",
            "Epoch 38/60\n",
            "9/9 [==============================] - 45s 5s/step - loss: -0.9574 - val_loss: -0.9579\n",
            "Epoch 39/60\n",
            "9/9 [==============================] - 51s 6s/step - loss: -0.9580 - val_loss: -0.9584\n",
            "Epoch 40/60\n",
            "9/9 [==============================] - 47s 5s/step - loss: -0.9585 - val_loss: -0.9588\n",
            "Epoch 41/60\n",
            "9/9 [==============================] - 50s 6s/step - loss: -0.9590 - val_loss: -0.9593\n",
            "Epoch 42/60\n",
            "9/9 [==============================] - 47s 5s/step - loss: -0.9594 - val_loss: -0.9598\n",
            "Epoch 43/60\n",
            "9/9 [==============================] - 52s 6s/step - loss: -0.9599 - val_loss: -0.9601\n",
            "Epoch 44/60\n",
            "9/9 [==============================] - 38s 4s/step - loss: -0.9603 - val_loss: -0.9605\n",
            "Epoch 45/60\n",
            "9/9 [==============================] - 46s 5s/step - loss: -0.9607 - val_loss: -0.9609\n",
            "Epoch 46/60\n",
            "9/9 [==============================] - 29s 3s/step - loss: -0.9611 - val_loss: -0.9613\n",
            "Epoch 47/60\n",
            "9/9 [==============================] - 25s 3s/step - loss: -0.9615 - val_loss: -0.9616\n",
            "Epoch 48/60\n",
            "9/9 [==============================] - 25s 3s/step - loss: -0.9618 - val_loss: -0.9620\n",
            "Epoch 49/60\n",
            "9/9 [==============================] - 29s 3s/step - loss: -0.9621 - val_loss: -0.9623\n",
            "Epoch 50/60\n",
            "9/9 [==============================] - 30s 3s/step - loss: -0.9625 - val_loss: -0.9626\n",
            "Epoch 51/60\n",
            "9/9 [==============================] - 30s 3s/step - loss: -0.9628 - val_loss: -0.9629\n",
            "Epoch 52/60\n",
            "9/9 [==============================] - 29s 3s/step - loss: -0.9631 - val_loss: -0.9632\n",
            "Epoch 53/60\n",
            "9/9 [==============================] - 25s 3s/step - loss: -0.9634 - val_loss: -0.9635\n",
            "Epoch 54/60\n",
            "9/9 [==============================] - 24s 3s/step - loss: -0.9637 - val_loss: -0.9638\n",
            "Epoch 55/60\n",
            "9/9 [==============================] - 24s 3s/step - loss: -0.9640 - val_loss: -0.9640\n",
            "Epoch 56/60\n",
            "9/9 [==============================] - 25s 3s/step - loss: -0.9643 - val_loss: -0.9643\n",
            "Epoch 57/60\n",
            "9/9 [==============================] - 32s 4s/step - loss: -0.9646 - val_loss: -0.9646\n",
            "Epoch 58/60\n",
            "9/9 [==============================] - 26s 3s/step - loss: -0.9648 - val_loss: -0.9648\n",
            "Epoch 59/60\n",
            "9/9 [==============================] - 28s 3s/step - loss: -0.9651 - val_loss: -0.9650\n",
            "Epoch 60/60\n",
            "9/9 [==============================] - 31s 3s/step - loss: -0.9653 - val_loss: -0.9653\n"
          ],
          "name": "stdout"
        }
      ]
    },
    {
      "cell_type": "code",
      "metadata": {
        "hideCode": false,
        "hidePrompt": false,
        "id": "ITbEOP2VHW6U"
      },
      "source": [
        "autoencoder.save('Outputs/autoencoder_64.h5') \n",
        "encoder.save('Outputs/encoder_64.h5') "
      ],
      "execution_count": null,
      "outputs": []
    },
    {
      "cell_type": "markdown",
      "metadata": {
        "hideCode": false,
        "hidePrompt": false,
        "id": "hGpCLAGLk74S"
      },
      "source": [
        "We plot the training history, see the validation and training loss are eventually stable and similar."
      ]
    },
    {
      "cell_type": "code",
      "metadata": {
        "colab": {
          "base_uri": "https://localhost:8080/",
          "height": 300
        },
        "hideCode": false,
        "hidePrompt": false,
        "id": "NuC154a6HW9L",
        "outputId": "c4e1d633-ad7f-40c6-c850-e24b2e83ca9b"
      },
      "source": [
        "import matplotlib.pyplot as plt\n",
        "\n",
        "loss = history.history['loss']\n",
        "val_loss = history.history['val_loss']\n",
        "\n",
        "epochs = range(len(loss))\n",
        "\n",
        "plt.plot(epochs, loss, 'bo', label='Training MSE',c='r')\n",
        "plt.plot(epochs, val_loss, 'b', label='Validation MSE')\n",
        "plt.xlabel('Epoch')\n",
        "plt.ylabel('Loss')\n",
        "plt.legend()\n",
        "\n",
        "plt.show()\n",
        "plt.savefig('Outputs/ae_training_hist.png')"
      ],
      "execution_count": null,
      "outputs": [
        {
          "output_type": "display_data",
          "data": {
            "image/png": "[encoded data removed]",
            "text/plain": [
              "<Figure size 432x288 with 1 Axes>"
            ]
          },
          "metadata": {
            "tags": [],
            "needs_background": "light"
          }
        },
        {
          "output_type": "display_data",
          "data": {
            "text/plain": [
              "<Figure size 432x288 with 0 Axes>"
            ]
          },
          "metadata": {
            "tags": []
          }
        }
      ]
    },
    {
      "cell_type": "markdown",
      "metadata": {
        "hideCode": false,
        "hidePrompt": false,
        "id": "Zh08pX7RlQ8M"
      },
      "source": [
        "We save our results."
      ]
    },
    {
      "cell_type": "code",
      "metadata": {
        "colab": {
          "base_uri": "https://localhost:8080/",
          "height": 608
        },
        "hideCode": false,
        "hidePrompt": false,
        "id": "h6CigLnxHXPv",
        "outputId": "e3fe6c95-50f4-460c-b8ba-a3b34b77c827"
      },
      "source": [
        "abstract_df = pd.read_csv('Outputs/abstract_df_clean_stopwords_lang_abstrlen.csv',index_col=0)\n",
        "array_encoded_abstracts = encoder.predict(embedded_abstract)\n",
        "encoded_abstracts = pd.concat((abstract_df[0:10000],pd.DataFrame(array_encoded_abstracts,index=abstract_df.index.values[0:10000])),axis=1)\n",
        "encoded_abstracts.to_csv('Outputs/ae_encoded_abstract_df_64.csv')\n",
        "encoded_abstracts.head()"
      ],
      "execution_count": null,
      "outputs": [
        {
          "output_type": "execute_result",
          "data": {
            "text/html": [
              "<div>\n",
              "<style scoped>\n",
              "    .dataframe tbody tr th:only-of-type {\n",
              "        vertical-align: middle;\n",
              "    }\n",
              "\n",
              "    .dataframe tbody tr th {\n",
              "        vertical-align: top;\n",
              "    }\n",
              "\n",
              "    .dataframe thead th {\n",
              "        text-align: right;\n",
              "    }\n",
              "</style>\n",
              "<table border=\"1\" class=\"dataframe\">\n",
              "  <thead>\n",
              "    <tr style=\"text-align: right;\">\n",
              "      <th></th>\n",
              "      <th>cord_uid</th>\n",
              "      <th>abstract</th>\n",
              "      <th>word_count</th>\n",
              "      <th>0</th>\n",
              "      <th>1</th>\n",
              "      <th>2</th>\n",
              "      <th>3</th>\n",
              "      <th>4</th>\n",
              "      <th>5</th>\n",
              "      <th>6</th>\n",
              "      <th>...</th>\n",
              "      <th>54</th>\n",
              "      <th>55</th>\n",
              "      <th>56</th>\n",
              "      <th>57</th>\n",
              "      <th>58</th>\n",
              "      <th>59</th>\n",
              "      <th>60</th>\n",
              "      <th>61</th>\n",
              "      <th>62</th>\n",
              "      <th>63</th>\n",
              "    </tr>\n",
              "  </thead>\n",
              "  <tbody>\n",
              "    <tr>\n",
              "      <th>353391</th>\n",
              "      <td>sng9h1kq</td>\n",
              "      <td>challenging find genes stable transcripts refe...</td>\n",
              "      <td>128</td>\n",
              "      <td>-0.025721</td>\n",
              "      <td>0.517121</td>\n",
              "      <td>-0.479899</td>\n",
              "      <td>-0.605407</td>\n",
              "      <td>0.068654</td>\n",
              "      <td>0.673719</td>\n",
              "      <td>0.536603</td>\n",
              "      <td>...</td>\n",
              "      <td>0.080616</td>\n",
              "      <td>0.604826</td>\n",
              "      <td>-0.080643</td>\n",
              "      <td>-0.203930</td>\n",
              "      <td>-0.028942</td>\n",
              "      <td>-0.386709</td>\n",
              "      <td>0.642630</td>\n",
              "      <td>-0.059549</td>\n",
              "      <td>-0.432383</td>\n",
              "      <td>0.443774</td>\n",
              "    </tr>\n",
              "    <tr>\n",
              "      <th>48166</th>\n",
              "      <td>h9v5jqfc</td>\n",
              "      <td>etiology injury diverse multifactorial autopsy...</td>\n",
              "      <td>82</td>\n",
              "      <td>-0.016891</td>\n",
              "      <td>0.302273</td>\n",
              "      <td>-0.651515</td>\n",
              "      <td>-0.561381</td>\n",
              "      <td>0.010714</td>\n",
              "      <td>0.663162</td>\n",
              "      <td>0.557620</td>\n",
              "      <td>...</td>\n",
              "      <td>0.077701</td>\n",
              "      <td>0.211173</td>\n",
              "      <td>-0.224173</td>\n",
              "      <td>-0.292526</td>\n",
              "      <td>-0.205760</td>\n",
              "      <td>-0.668778</td>\n",
              "      <td>0.711367</td>\n",
              "      <td>-0.005670</td>\n",
              "      <td>-0.470185</td>\n",
              "      <td>0.133148</td>\n",
              "    </tr>\n",
              "    <tr>\n",
              "      <th>5918</th>\n",
              "      <td>k2crv9qb</td>\n",
              "      <td>angiotensin-converting enzyme ace considered p...</td>\n",
              "      <td>129</td>\n",
              "      <td>-0.000256</td>\n",
              "      <td>0.548198</td>\n",
              "      <td>-0.670758</td>\n",
              "      <td>-0.648719</td>\n",
              "      <td>0.019095</td>\n",
              "      <td>0.740356</td>\n",
              "      <td>0.519471</td>\n",
              "      <td>...</td>\n",
              "      <td>0.021436</td>\n",
              "      <td>0.833036</td>\n",
              "      <td>-0.425552</td>\n",
              "      <td>-0.284744</td>\n",
              "      <td>-0.222868</td>\n",
              "      <td>-0.831387</td>\n",
              "      <td>0.702441</td>\n",
              "      <td>-0.036318</td>\n",
              "      <td>-0.491804</td>\n",
              "      <td>0.417141</td>\n",
              "    </tr>\n",
              "    <tr>\n",
              "      <th>360052</th>\n",
              "      <td>ofutm6pc</td>\n",
              "      <td>efficacy povidone-iodine pvp-i products number...</td>\n",
              "      <td>85</td>\n",
              "      <td>-0.028173</td>\n",
              "      <td>0.192283</td>\n",
              "      <td>-0.459530</td>\n",
              "      <td>-0.671187</td>\n",
              "      <td>0.020363</td>\n",
              "      <td>0.756021</td>\n",
              "      <td>0.595849</td>\n",
              "      <td>...</td>\n",
              "      <td>0.025621</td>\n",
              "      <td>0.513213</td>\n",
              "      <td>-0.108698</td>\n",
              "      <td>-0.379482</td>\n",
              "      <td>-0.158120</td>\n",
              "      <td>-0.641619</td>\n",
              "      <td>0.671276</td>\n",
              "      <td>-0.024645</td>\n",
              "      <td>-0.444761</td>\n",
              "      <td>0.126058</td>\n",
              "    </tr>\n",
              "    <tr>\n",
              "      <th>77312</th>\n",
              "      <td>baog4f4h</td>\n",
              "      <td>retinoid acid receptor orphan receptor alpha r...</td>\n",
              "      <td>107</td>\n",
              "      <td>0.013979</td>\n",
              "      <td>0.720491</td>\n",
              "      <td>-0.608755</td>\n",
              "      <td>-0.521759</td>\n",
              "      <td>0.053027</td>\n",
              "      <td>0.670722</td>\n",
              "      <td>0.593300</td>\n",
              "      <td>...</td>\n",
              "      <td>0.059974</td>\n",
              "      <td>0.425503</td>\n",
              "      <td>-0.072745</td>\n",
              "      <td>-0.255448</td>\n",
              "      <td>-0.545533</td>\n",
              "      <td>-0.519312</td>\n",
              "      <td>0.719914</td>\n",
              "      <td>-0.052568</td>\n",
              "      <td>-0.517625</td>\n",
              "      <td>-0.135090</td>\n",
              "    </tr>\n",
              "  </tbody>\n",
              "</table>\n",
              "<p>5 rows × 67 columns</p>\n",
              "</div>"
            ],
            "text/plain": [
              "        cord_uid                                           abstract  \\\n",
              "353391  sng9h1kq  challenging find genes stable transcripts refe...   \n",
              "48166   h9v5jqfc  etiology injury diverse multifactorial autopsy...   \n",
              "5918    k2crv9qb  angiotensin-converting enzyme ace considered p...   \n",
              "360052  ofutm6pc  efficacy povidone-iodine pvp-i products number...   \n",
              "77312   baog4f4h  retinoid acid receptor orphan receptor alpha r...   \n",
              "\n",
              "        word_count         0         1         2         3         4  \\\n",
              "353391         128 -0.025721  0.517121 -0.479899 -0.605407  0.068654   \n",
              "48166           82 -0.016891  0.302273 -0.651515 -0.561381  0.010714   \n",
              "5918           129 -0.000256  0.548198 -0.670758 -0.648719  0.019095   \n",
              "360052          85 -0.028173  0.192283 -0.459530 -0.671187  0.020363   \n",
              "77312          107  0.013979  0.720491 -0.608755 -0.521759  0.053027   \n",
              "\n",
              "               5         6  ...        54        55        56        57  \\\n",
              "353391  0.673719  0.536603  ...  0.080616  0.604826 -0.080643 -0.203930   \n",
              "48166   0.663162  0.557620  ...  0.077701  0.211173 -0.224173 -0.292526   \n",
              "5918    0.740356  0.519471  ...  0.021436  0.833036 -0.425552 -0.284744   \n",
              "360052  0.756021  0.595849  ...  0.025621  0.513213 -0.108698 -0.379482   \n",
              "77312   0.670722  0.593300  ...  0.059974  0.425503 -0.072745 -0.255448   \n",
              "\n",
              "              58        59        60        61        62        63  \n",
              "353391 -0.028942 -0.386709  0.642630 -0.059549 -0.432383  0.443774  \n",
              "48166  -0.205760 -0.668778  0.711367 -0.005670 -0.470185  0.133148  \n",
              "5918   -0.222868 -0.831387  0.702441 -0.036318 -0.491804  0.417141  \n",
              "360052 -0.158120 -0.641619  0.671276 -0.024645 -0.444761  0.126058  \n",
              "77312  -0.545533 -0.519312  0.719914 -0.052568 -0.517625 -0.135090  \n",
              "\n",
              "[5 rows x 67 columns]"
            ]
          },
          "metadata": {
            "tags": []
          },
          "execution_count": 20
        }
      ]
    }
  ]
}